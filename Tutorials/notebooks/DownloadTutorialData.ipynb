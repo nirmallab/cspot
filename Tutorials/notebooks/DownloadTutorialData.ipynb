{
 "cells": [
  {
   "cell_type": "markdown",
   "metadata": {},
   "source": [
    "# 🎯 CSPOT Exemplar Data\n",
    "A short guide to downloading our exemplar data for trying out the CSPOT algorithm.\n",
    "  \n",
    "If you want to try out the CSPOT algorithm, follow these simple steps to download our exemplar data:"
   ]
  },
  {
   "cell_type": "markdown",
   "metadata": {},
   "source": [
    "1. Navigate to the Harvard Dataverse website and download the exemplar data (see screenshot below!)\n",
    "  \n",
    "    **[Data](https://doi.org/10.7910/DVN/C45JWT): https://doi.org/10.7910/DVN/C45JWT**"
   ]
  },
  {
   "cell_type": "markdown",
   "metadata": {},
   "source": [
    "![Harvard DataVerse](../../assets/harvardDataverse.png \"Click on the denoted region to download the data\")"
   ]
  },
  {
   "cell_type": "markdown",
   "metadata": {},
   "source": [
    "2. Click on the \"Access Dataset\" --> \"Original Format ZIP\" button.\n",
    "3. Wait for the download to complete. The size of the file is approximately 40 MB.\n",
    "4. Unzip the downloaded file to access the data."
   ]
  },
  {
   "cell_type": "markdown",
   "metadata": {},
   "source": [
    "**To ensure that you can follow the tutorial correctly, please make sure that the following folder structure (screenshot below) is maintained:**"
   ]
  },
  {
   "cell_type": "markdown",
   "metadata": {},
   "source": [
    "![Harvard DataVerse FolderStructure](../../assets/exampleFolderStructure.png \"Click on the denoted region to download the data\")"
   ]
  },
  {
   "cell_type": "markdown",
   "metadata": {},
   "source": [
    "<hr>"
   ]
  },
  {
   "cell_type": "markdown",
   "metadata": {},
   "source": [
    "## Models used in the Manuscript\n",
    "\n",
    "Please note that the purpose of this tutorial is to demonstrate how to run the cspot algorithm and should not be expected to produce meaningful results, especially in the model training section.\n",
    "  \n",
    "For your reference, we have included the models used in the associated manuscript in the `manuscriptModels` folder.\n",
    "  \n",
    "If you have any questions or encounter any issues while following the tutorial, please don't hesitate to contact us for assistance."
   ]
  },
  {
   "cell_type": "code",
   "execution_count": null,
   "metadata": {},
   "outputs": [],
   "source": []
  }
 ],
 "metadata": {
  "kernelspec": {
   "display_name": "Python 3",
   "language": "python",
   "name": "python3"
  },
  "language_info": {
   "codemirror_mode": {
    "name": "ipython",
    "version": 3
   },
   "file_extension": ".py",
   "mimetype": "text/x-python",
   "name": "python",
   "nbconvert_exporter": "python",
   "pygments_lexer": "ipython3",
   "version": "3.9.12 (main, Mar 26 2022, 15:44:31) \n[Clang 13.1.6 (clang-1316.0.21.2)]"
  },
  "vscode": {
   "interpreter": {
    "hash": "b0fa6594d8f4cbf19f97940f81e996739fb7646882a419484c72d19e05852a7e"
   }
  }
 },
 "nbformat": 4,
 "nbformat_minor": 2
}
